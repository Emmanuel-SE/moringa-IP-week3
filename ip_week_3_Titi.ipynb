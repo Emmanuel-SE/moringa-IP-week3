{
  "nbformat": 4,
  "nbformat_minor": 0,
  "metadata": {
    "colab": {
      "name": "ip week 3 Titi",
      "private_outputs": true,
      "provenance": [],
      "authorship_tag": "ABX9TyNXbrz5yGG4DgGIidzpZdYy",
      "include_colab_link": true
    },
    "kernelspec": {
      "name": "python3",
      "display_name": "Python 3"
    },
    "language_info": {
      "name": "python"
    },
    "accelerator": "GPU"
  },
  "cells": [
    {
      "cell_type": "markdown",
      "metadata": {
        "id": "view-in-github",
        "colab_type": "text"
      },
      "source": [
        "<a href=\"https://colab.research.google.com/github/Tyty-manu/moringa-IP-week3/blob/main/ip_week_3_Titi.ipynb\" target=\"_parent\"><img src=\"https://colab.research.google.com/assets/colab-badge.svg\" alt=\"Open In Colab\"/></a>"
      ]
    },
    {
      "cell_type": "code",
      "metadata": {
        "id": "PuZV9F9DPF28"
      },
      "source": [
        "# Let's import the pandas library\n",
        "import pandas as pd\n",
        "# as well as the Numpy library\n",
        "import numpy as np\n",
        "import glob"
      ],
      "execution_count": null,
      "outputs": []
    },
    {
      "cell_type": "code",
      "metadata": {
        "id": "qgHOsCJt3p6w"
      },
      "source": [
        "td1 = pd.read_csv('Telcom_dataset.csv')\n",
        "td2= pd.read_csv('Telcom_dataset2.csv')\n",
        "td3= pd.read_csv('Telcom_dataset3.csv')\n",
        "pd.set_option(\"display.precision\", 2)  \n",
        "res = pd.concat([td1, td2, td3])\n",
        "res.dropna(inplace = True) \n",
        "res\n"
      ],
      "execution_count": null,
      "outputs": []
    },
    {
      "cell_type": "code",
      "metadata": {
        "id": "KGBe82ak9ee5"
      },
      "source": [
        "res2=pd.read_csv('cells_geo.csv')\n",
        "pd.merge(res, res2, on='CELL_ID')\n",
        "res_prime\n"
      ],
      "execution_count": null,
      "outputs": []
    }
  ]
}